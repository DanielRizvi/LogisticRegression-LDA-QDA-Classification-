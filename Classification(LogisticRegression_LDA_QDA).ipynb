{
  "nbformat": 4,
  "nbformat_minor": 0,
  "metadata": {
    "colab": {
      "provenance": []
    },
    "kernelspec": {
      "name": "python3",
      "display_name": "Python 3"
    },
    "language_info": {
      "name": "python"
    }
  },
  "cells": [
    {
      "cell_type": "markdown",
      "source": [
        "# **Classification** **#CODEDANIEL**"
      ],
      "metadata": {
        "id": "YhOLTDrPTbSe"
      }
    },
    {
      "cell_type": "code",
      "source": [
        "import pandas as pd\n",
        "import numpy as np\n",
        "import matplotlib.pyplot as plt\n",
        "import seaborn as sns\n",
        "from sklearn.preprocessing import LabelEncoder\n",
        "from sklearn.model_selection import train_test_split, cross_val_score\n",
        "from sklearn.metrics import roc_curve, auc, confusion_matrix\n",
        "%matplotlib inline \n"
      ],
      "metadata": {
        "id": "onIEG5AtTfvC"
      },
      "execution_count": 18,
      "outputs": []
    },
    {
      "cell_type": "markdown",
      "source": [
        "**pandas:** a library for data manipulation and analysis. It provides data structures for efficiently storing and manipulating large datasets, as well as functions for importing and exporting data from various file formats.\n",
        "\n",
        "**numpy:** a library for scientific computing in Python. It provides functions for working with arrays and matrices, as well as various mathematical operations and random number generation.\n",
        "\n",
        "**matplotlib:** a plotting library for creating static, interactive, and animated visualizations in Python. It provides a variety of plot types and customization options for creating informative and engaging plots.\n",
        "\n",
        "**seaborn:** a library for data visualization built on top of matplotlib. It provides additional plot types and styling options for creating more complex and aesthetically pleasing visualizations.\n",
        "\n",
        "**sklearn:** a library for machine learning in Python. It provides a variety of functions and tools for data preprocessing, model selection, and evaluation."
      ],
      "metadata": {
        "id": "xwkVU14lVHFK"
      }
    },
    {
      "cell_type": "markdown",
      "source": [
        "**LabelEncoder:** a class from sklearn.preprocessing that transforms categorical data into numerical data by assigning a unique integer to each category.\n",
        "\n",
        "**train_test_split:** a function from sklearn.model_selection that splits a dataset into training and testing sets for model development and evaluation.\n",
        "\n",
        "**cross_val_score:** a function from sklearn.model_selection that performs cross-validation, which is a technique for estimating the performance of a model by splitting the dataset into multiple training and testing sets.\n",
        "\n",
        "**roc_curve and auc:** functions from sklearn.metrics that calculate the receiver operating characteristic (ROC) curve and the area under the curve (AUC), which are commonly used to evaluate the performance of binary classifiers.\n",
        "\n",
        "**confusion_matrix:** a function from sklearn.metrics that computes the confusion matrix, which is a table that summarizes the performance of a classifier by comparing its predictions to the true labels of a test set."
      ],
      "metadata": {
        "id": "NI41UPZEVPIE"
      }
    },
    {
      "cell_type": "code",
      "source": [
        "datapath = 'https://raw.githubusercontent.com/marcopeix/datasciencewithmarco/master/data/mushrooms.csv'\n",
        "data = pd.read_csv(datapath)"
      ],
      "metadata": {
        "id": "4oh3iEiPVb_I"
      },
      "execution_count": 19,
      "outputs": []
    },
    {
      "cell_type": "code",
      "source": [
        "data.head()"
      ],
      "metadata": {
        "colab": {
          "base_uri": "https://localhost:8080/",
          "height": 352
        },
        "id": "QqBfh8VEWDkq",
        "outputId": "5494a4ba-90b4-458f-f4e2-f0c199813c62"
      },
      "execution_count": 20,
      "outputs": [
        {
          "output_type": "execute_result",
          "data": {
            "text/plain": [
              "  class cap-shape cap-surface cap-color bruises odor gill-attachment  \\\n",
              "0     p         x           s         n       t    p               f   \n",
              "1     e         x           s         y       t    a               f   \n",
              "2     e         b           s         w       t    l               f   \n",
              "3     p         x           y         w       t    p               f   \n",
              "4     e         x           s         g       f    n               f   \n",
              "\n",
              "  gill-spacing gill-size gill-color  ... stalk-surface-below-ring  \\\n",
              "0            c         n          k  ...                        s   \n",
              "1            c         b          k  ...                        s   \n",
              "2            c         b          n  ...                        s   \n",
              "3            c         n          n  ...                        s   \n",
              "4            w         b          k  ...                        s   \n",
              "\n",
              "  stalk-color-above-ring stalk-color-below-ring veil-type veil-color  \\\n",
              "0                      w                      w         p          w   \n",
              "1                      w                      w         p          w   \n",
              "2                      w                      w         p          w   \n",
              "3                      w                      w         p          w   \n",
              "4                      w                      w         p          w   \n",
              "\n",
              "  ring-number ring-type spore-print-color population habitat  \n",
              "0           o         p                 k          s       u  \n",
              "1           o         p                 n          n       g  \n",
              "2           o         p                 n          n       m  \n",
              "3           o         p                 k          s       u  \n",
              "4           o         e                 n          a       g  \n",
              "\n",
              "[5 rows x 23 columns]"
            ],
            "text/html": [
              "\n",
              "  <div id=\"df-9ae98510-4c68-4557-a87b-82d45d9ce8a4\">\n",
              "    <div class=\"colab-df-container\">\n",
              "      <div>\n",
              "<style scoped>\n",
              "    .dataframe tbody tr th:only-of-type {\n",
              "        vertical-align: middle;\n",
              "    }\n",
              "\n",
              "    .dataframe tbody tr th {\n",
              "        vertical-align: top;\n",
              "    }\n",
              "\n",
              "    .dataframe thead th {\n",
              "        text-align: right;\n",
              "    }\n",
              "</style>\n",
              "<table border=\"1\" class=\"dataframe\">\n",
              "  <thead>\n",
              "    <tr style=\"text-align: right;\">\n",
              "      <th></th>\n",
              "      <th>class</th>\n",
              "      <th>cap-shape</th>\n",
              "      <th>cap-surface</th>\n",
              "      <th>cap-color</th>\n",
              "      <th>bruises</th>\n",
              "      <th>odor</th>\n",
              "      <th>gill-attachment</th>\n",
              "      <th>gill-spacing</th>\n",
              "      <th>gill-size</th>\n",
              "      <th>gill-color</th>\n",
              "      <th>...</th>\n",
              "      <th>stalk-surface-below-ring</th>\n",
              "      <th>stalk-color-above-ring</th>\n",
              "      <th>stalk-color-below-ring</th>\n",
              "      <th>veil-type</th>\n",
              "      <th>veil-color</th>\n",
              "      <th>ring-number</th>\n",
              "      <th>ring-type</th>\n",
              "      <th>spore-print-color</th>\n",
              "      <th>population</th>\n",
              "      <th>habitat</th>\n",
              "    </tr>\n",
              "  </thead>\n",
              "  <tbody>\n",
              "    <tr>\n",
              "      <th>0</th>\n",
              "      <td>p</td>\n",
              "      <td>x</td>\n",
              "      <td>s</td>\n",
              "      <td>n</td>\n",
              "      <td>t</td>\n",
              "      <td>p</td>\n",
              "      <td>f</td>\n",
              "      <td>c</td>\n",
              "      <td>n</td>\n",
              "      <td>k</td>\n",
              "      <td>...</td>\n",
              "      <td>s</td>\n",
              "      <td>w</td>\n",
              "      <td>w</td>\n",
              "      <td>p</td>\n",
              "      <td>w</td>\n",
              "      <td>o</td>\n",
              "      <td>p</td>\n",
              "      <td>k</td>\n",
              "      <td>s</td>\n",
              "      <td>u</td>\n",
              "    </tr>\n",
              "    <tr>\n",
              "      <th>1</th>\n",
              "      <td>e</td>\n",
              "      <td>x</td>\n",
              "      <td>s</td>\n",
              "      <td>y</td>\n",
              "      <td>t</td>\n",
              "      <td>a</td>\n",
              "      <td>f</td>\n",
              "      <td>c</td>\n",
              "      <td>b</td>\n",
              "      <td>k</td>\n",
              "      <td>...</td>\n",
              "      <td>s</td>\n",
              "      <td>w</td>\n",
              "      <td>w</td>\n",
              "      <td>p</td>\n",
              "      <td>w</td>\n",
              "      <td>o</td>\n",
              "      <td>p</td>\n",
              "      <td>n</td>\n",
              "      <td>n</td>\n",
              "      <td>g</td>\n",
              "    </tr>\n",
              "    <tr>\n",
              "      <th>2</th>\n",
              "      <td>e</td>\n",
              "      <td>b</td>\n",
              "      <td>s</td>\n",
              "      <td>w</td>\n",
              "      <td>t</td>\n",
              "      <td>l</td>\n",
              "      <td>f</td>\n",
              "      <td>c</td>\n",
              "      <td>b</td>\n",
              "      <td>n</td>\n",
              "      <td>...</td>\n",
              "      <td>s</td>\n",
              "      <td>w</td>\n",
              "      <td>w</td>\n",
              "      <td>p</td>\n",
              "      <td>w</td>\n",
              "      <td>o</td>\n",
              "      <td>p</td>\n",
              "      <td>n</td>\n",
              "      <td>n</td>\n",
              "      <td>m</td>\n",
              "    </tr>\n",
              "    <tr>\n",
              "      <th>3</th>\n",
              "      <td>p</td>\n",
              "      <td>x</td>\n",
              "      <td>y</td>\n",
              "      <td>w</td>\n",
              "      <td>t</td>\n",
              "      <td>p</td>\n",
              "      <td>f</td>\n",
              "      <td>c</td>\n",
              "      <td>n</td>\n",
              "      <td>n</td>\n",
              "      <td>...</td>\n",
              "      <td>s</td>\n",
              "      <td>w</td>\n",
              "      <td>w</td>\n",
              "      <td>p</td>\n",
              "      <td>w</td>\n",
              "      <td>o</td>\n",
              "      <td>p</td>\n",
              "      <td>k</td>\n",
              "      <td>s</td>\n",
              "      <td>u</td>\n",
              "    </tr>\n",
              "    <tr>\n",
              "      <th>4</th>\n",
              "      <td>e</td>\n",
              "      <td>x</td>\n",
              "      <td>s</td>\n",
              "      <td>g</td>\n",
              "      <td>f</td>\n",
              "      <td>n</td>\n",
              "      <td>f</td>\n",
              "      <td>w</td>\n",
              "      <td>b</td>\n",
              "      <td>k</td>\n",
              "      <td>...</td>\n",
              "      <td>s</td>\n",
              "      <td>w</td>\n",
              "      <td>w</td>\n",
              "      <td>p</td>\n",
              "      <td>w</td>\n",
              "      <td>o</td>\n",
              "      <td>e</td>\n",
              "      <td>n</td>\n",
              "      <td>a</td>\n",
              "      <td>g</td>\n",
              "    </tr>\n",
              "  </tbody>\n",
              "</table>\n",
              "<p>5 rows × 23 columns</p>\n",
              "</div>\n",
              "      <button class=\"colab-df-convert\" onclick=\"convertToInteractive('df-9ae98510-4c68-4557-a87b-82d45d9ce8a4')\"\n",
              "              title=\"Convert this dataframe to an interactive table.\"\n",
              "              style=\"display:none;\">\n",
              "        \n",
              "  <svg xmlns=\"http://www.w3.org/2000/svg\" height=\"24px\"viewBox=\"0 0 24 24\"\n",
              "       width=\"24px\">\n",
              "    <path d=\"M0 0h24v24H0V0z\" fill=\"none\"/>\n",
              "    <path d=\"M18.56 5.44l.94 2.06.94-2.06 2.06-.94-2.06-.94-.94-2.06-.94 2.06-2.06.94zm-11 1L8.5 8.5l.94-2.06 2.06-.94-2.06-.94L8.5 2.5l-.94 2.06-2.06.94zm10 10l.94 2.06.94-2.06 2.06-.94-2.06-.94-.94-2.06-.94 2.06-2.06.94z\"/><path d=\"M17.41 7.96l-1.37-1.37c-.4-.4-.92-.59-1.43-.59-.52 0-1.04.2-1.43.59L10.3 9.45l-7.72 7.72c-.78.78-.78 2.05 0 2.83L4 21.41c.39.39.9.59 1.41.59.51 0 1.02-.2 1.41-.59l7.78-7.78 2.81-2.81c.8-.78.8-2.07 0-2.86zM5.41 20L4 18.59l7.72-7.72 1.47 1.35L5.41 20z\"/>\n",
              "  </svg>\n",
              "      </button>\n",
              "      \n",
              "  <style>\n",
              "    .colab-df-container {\n",
              "      display:flex;\n",
              "      flex-wrap:wrap;\n",
              "      gap: 12px;\n",
              "    }\n",
              "\n",
              "    .colab-df-convert {\n",
              "      background-color: #E8F0FE;\n",
              "      border: none;\n",
              "      border-radius: 50%;\n",
              "      cursor: pointer;\n",
              "      display: none;\n",
              "      fill: #1967D2;\n",
              "      height: 32px;\n",
              "      padding: 0 0 0 0;\n",
              "      width: 32px;\n",
              "    }\n",
              "\n",
              "    .colab-df-convert:hover {\n",
              "      background-color: #E2EBFA;\n",
              "      box-shadow: 0px 1px 2px rgba(60, 64, 67, 0.3), 0px 1px 3px 1px rgba(60, 64, 67, 0.15);\n",
              "      fill: #174EA6;\n",
              "    }\n",
              "\n",
              "    [theme=dark] .colab-df-convert {\n",
              "      background-color: #3B4455;\n",
              "      fill: #D2E3FC;\n",
              "    }\n",
              "\n",
              "    [theme=dark] .colab-df-convert:hover {\n",
              "      background-color: #434B5C;\n",
              "      box-shadow: 0px 1px 3px 1px rgba(0, 0, 0, 0.15);\n",
              "      filter: drop-shadow(0px 1px 2px rgba(0, 0, 0, 0.3));\n",
              "      fill: #FFFFFF;\n",
              "    }\n",
              "  </style>\n",
              "\n",
              "      <script>\n",
              "        const buttonEl =\n",
              "          document.querySelector('#df-9ae98510-4c68-4557-a87b-82d45d9ce8a4 button.colab-df-convert');\n",
              "        buttonEl.style.display =\n",
              "          google.colab.kernel.accessAllowed ? 'block' : 'none';\n",
              "\n",
              "        async function convertToInteractive(key) {\n",
              "          const element = document.querySelector('#df-9ae98510-4c68-4557-a87b-82d45d9ce8a4');\n",
              "          const dataTable =\n",
              "            await google.colab.kernel.invokeFunction('convertToInteractive',\n",
              "                                                     [key], {});\n",
              "          if (!dataTable) return;\n",
              "\n",
              "          const docLinkHtml = 'Like what you see? Visit the ' +\n",
              "            '<a target=\"_blank\" href=https://colab.research.google.com/notebooks/data_table.ipynb>data table notebook</a>'\n",
              "            + ' to learn more about interactive tables.';\n",
              "          element.innerHTML = '';\n",
              "          dataTable['output_type'] = 'display_data';\n",
              "          await google.colab.output.renderOutput(dataTable, element);\n",
              "          const docLink = document.createElement('div');\n",
              "          docLink.innerHTML = docLinkHtml;\n",
              "          element.appendChild(docLink);\n",
              "        }\n",
              "      </script>\n",
              "    </div>\n",
              "  </div>\n",
              "  "
            ]
          },
          "metadata": {},
          "execution_count": 20
        }
      ]
    },
    {
      "cell_type": "code",
      "source": [
        "x = data['class']\n",
        "ax = sns.countplot(x=x, data=data)"
      ],
      "metadata": {
        "colab": {
          "base_uri": "https://localhost:8080/",
          "height": 279
        },
        "id": "U8SIU_QOWHYp",
        "outputId": "55f65734-df37-4fd1-a037-a4cbae3558fa"
      },
      "execution_count": 21,
      "outputs": [
        {
          "output_type": "display_data",
          "data": {
            "text/plain": [
              "<Figure size 432x288 with 1 Axes>"
            ],
            "image/png": "[encoded data removed]"
          },
          "metadata": {
            "needs_background": "light"
          }
        }
      ]
    },
    {
      "cell_type": "markdown",
      "source": [
        "The code **x = data['class']** extracts the column of data with the label \"class\" from the pandas dataframe data and assigns it to the variable x.\n",
        "\n",
        "The code **ax = sns.countplot(x=x, data=data) **creates a countplot using the Seaborn library, which is a barplot that shows the count of each unique value in a categorical variable.\n",
        "\n",
        "The **x parameter** specifies the categorical variable to be plotted, which in this case is the x variable that was previously extracted from the data dataframe.\n",
        "\n",
        "The **data parameter** specifies the dataframe that the categorical variable is coming from, which is also data in this case.\n",
        "\n",
        "The resulting plot is stored in the variable ax, which can be used to further customize the plot or to display it using the plt.show() function from matplotlib.pyplot."
      ],
      "metadata": {
        "id": "QDGwiImeXrBu"
      }
    },
    {
      "cell_type": "code",
      "source": [
        "def plot_data(hue, data):\n",
        "  for i, col in enumerate(data.columns):\n",
        "    plt.figure(i)\n",
        "    ax = sns.countplot(x=data[col], hue=hue, data=data)"
      ],
      "metadata": {
        "id": "4Hqlp91wWZlZ"
      },
      "execution_count": 22,
      "outputs": []
    },
    {
      "cell_type": "markdown",
      "source": [
        " function named **plot_data** that takes two parameters:\n",
        "\n",
        "**hue:** a string specifying the name of the column to be used for coloring the countplot. This is the column that contains the categorical variable that will be used to group the data and color the bars in the plot.\n",
        "\n",
        "**data:** a pandas dataframe containing the data to be plotted.\n",
        "\n",
        "**data dataframe** and creates a separate countplot for each column, with the specified hue parameter.\n",
        "\n",
        "The **enumerate function** is used to get the index of each column in the data dataframe, which is used to create a separate figure for each plot (i.e., plt.figure(i)).\n",
        "\n",
        "The **sns.countplot function** is used to create the countplots, with the x parameter set to the name of the column (col) and the hue parameter set to the specified hue parameter. The data parameter is set to the data dataframe.\n",
        "\n",
        "Resulting plot for each column is stored in the variable ax, but it is not returned by the function. If the function is called, it will simply create a series of countplots for each column in the dataframe with the specified hue parameter.\n"
      ],
      "metadata": {
        "id": "n8iRZ6ipX9Zu"
      }
    },
    {
      "cell_type": "code",
      "source": [
        "hue = data['class']\n",
        "data_to_plot = data.drop('class', axis=1)\n",
        "plot_data(hue, data_to_plot)"
      ],
      "metadata": {
        "colab": {
          "base_uri": "https://localhost:8080/",
          "height": 1000
        },
        "id": "gn5bTaVoXFQl",
        "outputId": "7f830360-b3c8-4ed3-b5cd-c4c9eb16b3d8"
      },
      "execution_count": 23,
      "outputs": [
        {
          "output_type": "stream",
          "name": "stderr",
          "text": [
            "<ipython-input-22-085cb35836e6>:3: RuntimeWarning: More than 20 figures have been opened. Figures created through the pyplot interface (`matplotlib.pyplot.figure`) are retained until explicitly closed and may consume too much memory. (To control this warning, see the rcParam `figure.max_open_warning`).\n",
            "  plt.figure(i)\n",
            "<ipython-input-22-085cb35836e6>:3: RuntimeWarning: More than 20 figures have been opened. Figures created through the pyplot interface (`matplotlib.pyplot.figure`) are retained until explicitly closed and may consume too much memory. (To control this warning, see the rcParam `figure.max_open_warning`).\n",
            "  plt.figure(i)\n"
          ]
        },
        {
          "output_type": "display_data",
          "data": {
            "text/plain": [
              "<Figure size 432x288 with 1 Axes>"
            ],
            "image/png": "[encoded data removed]"
          },
          "metadata": {
            "needs_background": "light"
          }
        },
        {
          "output_type": "display_data",
          "data": {
            "text/plain": [
              "<Figure size 432x288 with 1 Axes>"
            ],
            "image/png": "[encoded data removed]"
          },
          "metadata": {
            "needs_background": "light"
          }
        },
        {
          "output_type": "display_data",
          "data": {
            "text/plain": [
              "<Figure size 432x288 with 1 Axes>"
            ],
            "image/png": "[encoded data removed]"
          },
          "metadata": {
            "needs_background": "light"
          }
        },
        {
          "output_type": "display_data",
          "data": {
            "text/plain": [
              "<Figure size 432x288 with 1 Axes>"
            ],
            "image/png": "[encoded data removed]"
          },
          "metadata": {
            "needs_background": "light"
          }
        },
        {
          "output_type": "display_data",
          "data": {
            "text/plain": [
              "<Figure size 432x288 with 1 Axes>"
            ],
            "image/png": "[encoded data removed]"
          },
          "metadata": {
            "needs_background": "light"
          }
        },
        {
          "output_type": "display_data",
          "data": {
            "text/plain": [
              "<Figure size 432x288 with 1 Axes>"
            ],
            "image/png": "[encoded data removed]"
          },
          "metadata": {
            "needs_background": "light"
          }
        },
        {
          "output_type": "display_data",
          "data": {
            "text/plain": [
              "<Figure size 432x288 with 1 Axes>"
            ],
            "image/png": "[encoded data removed]"
          },
          "metadata": {
            "needs_background": "light"
          }
        },
        {
          "output_type": "display_data",
          "data": {
            "text/plain": [
              "<Figure size 432x288 with 1 Axes>"
            ],
            "image/png": "[encoded data removed]"
          },
          "metadata": {
            "needs_background": "light"
          }
        },
        {
          "output_type": "display_data",
          "data": {
            "text/plain": [
              "<Figure size 432x288 with 1 Axes>"
            ],
            "image/png": "[encoded data removed]"
          },
          "metadata": {
            "needs_background": "light"
          }
        },
        {
          "output_type": "display_data",
          "data": {
            "text/plain": [
              "<Figure size 432x288 with 1 Axes>"
            ],
            "image/png": "[encoded data removed]"
          },
          "metadata": {
            "needs_background": "light"
          }
        },
        {
          "output_type": "display_data",
          "data": {
            "text/plain": [
              "<Figure size 432x288 with 1 Axes>"
            ],
            "image/png": "[encoded data removed]"
          },
          "metadata": {
            "needs_background": "light"
          }
        },
        {
          "output_type": "display_data",
          "data": {
            "text/plain": [
              "<Figure size 432x288 with 1 Axes>"
            ],
            "image/png": "[encoded data removed]"
          },
          "metadata": {
            "needs_background": "light"
          }
        },
        {
          "output_type": "display_data",
          "data": {
            "text/plain": [
              "<Figure size 432x288 with 1 Axes>"
            ],
            "image/png": "[encoded data removed]"
          },
          "metadata": {
            "needs_background": "light"
          }
        },
        {
          "output_type": "display_data",
          "data": {
            "text/plain": [
              "<Figure size 432x288 with 1 Axes>"
            ],
            "image/png": "[encoded data removed]"
          },
          "metadata": {
            "needs_background": "light"
          }
        },
        {
          "output_type": "display_data",
          "data": {
            "text/plain": [
              "<Figure size 432x288 with 1 Axes>"
            ],
            "image/png": "[encoded data removed]"
          },
          "metadata": {
            "needs_background": "light"
          }
        },
        {
          "output_type": "display_data",
          "data": {
            "text/plain": [
              "<Figure size 432x288 with 1 Axes>"
            ],
            "image/png": "[encoded data removed]"
          },
          "metadata": {
            "needs_background": "light"
          }
        },
        {
          "output_type": "display_data",
          "data": {
            "text/plain": [
              "<Figure size 432x288 with 1 Axes>"
            ],
            "image/png": "[encoded data removed]"
          },
          "metadata": {
            "needs_background": "light"
          }
        },
        {
          "output_type": "display_data",
          "data": {
            "text/plain": [
              "<Figure size 432x288 with 1 Axes>"
            ],
            "image/png": "[encoded data removed]"
          },
          "metadata": {
            "needs_background": "light"
          }
        },
        {
          "output_type": "display_data",
          "data": {
            "text/plain": [
              "<Figure size 432x288 with 1 Axes>"
            ],
            "image/png": "[encoded data removed]"
          },
          "metadata": {
            "needs_background": "light"
          }
        },
        {
          "output_type": "display_data",
          "data": {
            "text/plain": [
              "<Figure size 432x288 with 1 Axes>"
            ],
            "image/png": "[encoded data removed]"
          },
          "metadata": {
            "needs_background": "light"
          }
        },
        {
          "output_type": "display_data",
          "data": {
            "text/plain": [
              "<Figure size 432x288 with 1 Axes>"
            ],
            "image/png": "[encoded data removed]"
          },
          "metadata": {
            "needs_background": "light"
          }
        },
        {
          "output_type": "display_data",
          "data": {
            "text/plain": [
              "<Figure size 432x288 with 1 Axes>"
            ],
            "image/png": "[encoded data removed]"
          },
          "metadata": {
            "needs_background": "light"
          }
        }
      ]
    },
    {
      "cell_type": "markdown",
      "source": [
        "The code creates a new variable named hue that extracts the column of data with the label \"class\" from the pandas dataframe data and assigns it to hue. This is the column that will be used for coloring the countplots.\n",
        "\n",
        "The code also creates a new dataframe named data_to_plot that drops the column with the label \"class\" from the data dataframe, and assigns it to data_to_plot. This new dataframe contains all of the columns from the original data dataframe except for the \"class\" column.\n",
        "\n",
        "The function plot_data is then called with the hue and data_to_plot variables as arguments. This will create a series of countplots, one for each column in data_to_plot, with the \"class\" column used for coloring the bars in the plot."
      ],
      "metadata": {
        "id": "lNAqaBjOYaL8"
      }
    },
    {
      "cell_type": "markdown",
      "source": [
        "##Preprocessing\n",
        "\n",
        "\n"
      ],
      "metadata": {
        "id": "yOtLax--Yktv"
      }
    },
    {
      "cell_type": "code",
      "source": [
        "for col in data.columns:\n",
        "  print(f\"{col}: {data[col].isnull().sum()}\")"
      ],
      "metadata": {
        "colab": {
          "base_uri": "https://localhost:8080/"
        },
        "id": "HkRw0v08Yjtn",
        "outputId": "4a158e94-a583-48aa-85ee-d27831d05bbb"
      },
      "execution_count": 24,
      "outputs": [
        {
          "output_type": "stream",
          "name": "stdout",
          "text": [
            "class: 0\n",
            "cap-shape: 0\n",
            "cap-surface: 0\n",
            "cap-color: 0\n",
            "bruises: 0\n",
            "odor: 0\n",
            "gill-attachment: 0\n",
            "gill-spacing: 0\n",
            "gill-size: 0\n",
            "gill-color: 0\n",
            "stalk-shape: 0\n",
            "stalk-root: 0\n",
            "stalk-surface-above-ring: 0\n",
            "stalk-surface-below-ring: 0\n",
            "stalk-color-above-ring: 0\n",
            "stalk-color-below-ring: 0\n",
            "veil-type: 0\n",
            "veil-color: 0\n",
            "ring-number: 0\n",
            "ring-type: 0\n",
            "spore-print-color: 0\n",
            "population: 0\n",
            "habitat: 0\n"
          ]
        }
      ]
    },
    {
      "cell_type": "markdown",
      "source": [
        "The code loops through each column in the pandas dataframe data, and for each column it prints out the number of missing values using the isnull() method to find missing values and sum() method to count them.\n",
        "\n",
        "The output will be a series of lines, with one line for each column in data. Each line will show the name of the column (col), followed by a colon, and then the number of missing values in that column. "
      ],
      "metadata": {
        "id": "BJO-K4vIZhcc"
      }
    },
    {
      "cell_type": "code",
      "source": [
        " le = LabelEncoder()\n",
        " data['class'] = le.fit_transform(data['class'])\n",
        " data.head()"
      ],
      "metadata": {
        "colab": {
          "base_uri": "https://localhost:8080/",
          "height": 352
        },
        "id": "wd8bsZorZCli",
        "outputId": "923af305-608c-426a-952d-5643de29dd71"
      },
      "execution_count": 25,
      "outputs": [
        {
          "output_type": "execute_result",
          "data": {
            "text/plain": [
              "   class cap-shape cap-surface cap-color bruises odor gill-attachment  \\\n",
              "0      1         x           s         n       t    p               f   \n",
              "1      0         x           s         y       t    a               f   \n",
              "2      0         b           s         w       t    l               f   \n",
              "3      1         x           y         w       t    p               f   \n",
              "4      0         x           s         g       f    n               f   \n",
              "\n",
              "  gill-spacing gill-size gill-color  ... stalk-surface-below-ring  \\\n",
              "0            c         n          k  ...                        s   \n",
              "1            c         b          k  ...                        s   \n",
              "2            c         b          n  ...                        s   \n",
              "3            c         n          n  ...                        s   \n",
              "4            w         b          k  ...                        s   \n",
              "\n",
              "  stalk-color-above-ring stalk-color-below-ring veil-type veil-color  \\\n",
              "0                      w                      w         p          w   \n",
              "1                      w                      w         p          w   \n",
              "2                      w                      w         p          w   \n",
              "3                      w                      w         p          w   \n",
              "4                      w                      w         p          w   \n",
              "\n",
              "  ring-number ring-type spore-print-color population habitat  \n",
              "0           o         p                 k          s       u  \n",
              "1           o         p                 n          n       g  \n",
              "2           o         p                 n          n       m  \n",
              "3           o         p                 k          s       u  \n",
              "4           o         e                 n          a       g  \n",
              "\n",
              "[5 rows x 23 columns]"
            ],
            "text/html": [
              "\n",
              "  <div id=\"df-4f82e53a-fc87-4e21-9ec4-1d5c7aa16261\">\n",
              "    <div class=\"colab-df-container\">\n",
              "      <div>\n",
              "<style scoped>\n",
              "    .dataframe tbody tr th:only-of-type {\n",
              "        vertical-align: middle;\n",
              "    }\n",
              "\n",
              "    .dataframe tbody tr th {\n",
              "        vertical-align: top;\n",
              "    }\n",
              "\n",
              "    .dataframe thead th {\n",
              "        text-align: right;\n",
              "    }\n",
              "</style>\n",
              "<table border=\"1\" class=\"dataframe\">\n",
              "  <thead>\n",
              "    <tr style=\"text-align: right;\">\n",
              "      <th></th>\n",
              "      <th>class</th>\n",
              "      <th>cap-shape</th>\n",
              "      <th>cap-surface</th>\n",
              "      <th>cap-color</th>\n",
              "      <th>bruises</th>\n",
              "      <th>odor</th>\n",
              "      <th>gill-attachment</th>\n",
              "      <th>gill-spacing</th>\n",
              "      <th>gill-size</th>\n",
              "      <th>gill-color</th>\n",
              "      <th>...</th>\n",
              "      <th>stalk-surface-below-ring</th>\n",
              "      <th>stalk-color-above-ring</th>\n",
              "      <th>stalk-color-below-ring</th>\n",
              "      <th>veil-type</th>\n",
              "      <th>veil-color</th>\n",
              "      <th>ring-number</th>\n",
              "      <th>ring-type</th>\n",
              "      <th>spore-print-color</th>\n",
              "      <th>population</th>\n",
              "      <th>habitat</th>\n",
              "    </tr>\n",
              "  </thead>\n",
              "  <tbody>\n",
              "    <tr>\n",
              "      <th>0</th>\n",
              "      <td>1</td>\n",
              "      <td>x</td>\n",
              "      <td>s</td>\n",
              "      <td>n</td>\n",
              "      <td>t</td>\n",
              "      <td>p</td>\n",
              "      <td>f</td>\n",
              "      <td>c</td>\n",
              "      <td>n</td>\n",
              "      <td>k</td>\n",
              "      <td>...</td>\n",
              "      <td>s</td>\n",
              "      <td>w</td>\n",
              "      <td>w</td>\n",
              "      <td>p</td>\n",
              "      <td>w</td>\n",
              "      <td>o</td>\n",
              "      <td>p</td>\n",
              "      <td>k</td>\n",
              "      <td>s</td>\n",
              "      <td>u</td>\n",
              "    </tr>\n",
              "    <tr>\n",
              "      <th>1</th>\n",
              "      <td>0</td>\n",
              "      <td>x</td>\n",
              "      <td>s</td>\n",
              "      <td>y</td>\n",
              "      <td>t</td>\n",
              "      <td>a</td>\n",
              "      <td>f</td>\n",
              "      <td>c</td>\n",
              "      <td>b</td>\n",
              "      <td>k</td>\n",
              "      <td>...</td>\n",
              "      <td>s</td>\n",
              "      <td>w</td>\n",
              "      <td>w</td>\n",
              "      <td>p</td>\n",
              "      <td>w</td>\n",
              "      <td>o</td>\n",
              "      <td>p</td>\n",
              "      <td>n</td>\n",
              "      <td>n</td>\n",
              "      <td>g</td>\n",
              "    </tr>\n",
              "    <tr>\n",
              "      <th>2</th>\n",
              "      <td>0</td>\n",
              "      <td>b</td>\n",
              "      <td>s</td>\n",
              "      <td>w</td>\n",
              "      <td>t</td>\n",
              "      <td>l</td>\n",
              "      <td>f</td>\n",
              "      <td>c</td>\n",
              "      <td>b</td>\n",
              "      <td>n</td>\n",
              "      <td>...</td>\n",
              "      <td>s</td>\n",
              "      <td>w</td>\n",
              "      <td>w</td>\n",
              "      <td>p</td>\n",
              "      <td>w</td>\n",
              "      <td>o</td>\n",
              "      <td>p</td>\n",
              "      <td>n</td>\n",
              "      <td>n</td>\n",
              "      <td>m</td>\n",
              "    </tr>\n",
              "    <tr>\n",
              "      <th>3</th>\n",
              "      <td>1</td>\n",
              "      <td>x</td>\n",
              "      <td>y</td>\n",
              "      <td>w</td>\n",
              "      <td>t</td>\n",
              "      <td>p</td>\n",
              "      <td>f</td>\n",
              "      <td>c</td>\n",
              "      <td>n</td>\n",
              "      <td>n</td>\n",
              "      <td>...</td>\n",
              "      <td>s</td>\n",
              "      <td>w</td>\n",
              "      <td>w</td>\n",
              "      <td>p</td>\n",
              "      <td>w</td>\n",
              "      <td>o</td>\n",
              "      <td>p</td>\n",
              "      <td>k</td>\n",
              "      <td>s</td>\n",
              "      <td>u</td>\n",
              "    </tr>\n",
              "    <tr>\n",
              "      <th>4</th>\n",
              "      <td>0</td>\n",
              "      <td>x</td>\n",
              "      <td>s</td>\n",
              "      <td>g</td>\n",
              "      <td>f</td>\n",
              "      <td>n</td>\n",
              "      <td>f</td>\n",
              "      <td>w</td>\n",
              "      <td>b</td>\n",
              "      <td>k</td>\n",
              "      <td>...</td>\n",
              "      <td>s</td>\n",
              "      <td>w</td>\n",
              "      <td>w</td>\n",
              "      <td>p</td>\n",
              "      <td>w</td>\n",
              "      <td>o</td>\n",
              "      <td>e</td>\n",
              "      <td>n</td>\n",
              "      <td>a</td>\n",
              "      <td>g</td>\n",
              "    </tr>\n",
              "  </tbody>\n",
              "</table>\n",
              "<p>5 rows × 23 columns</p>\n",
              "</div>\n",
              "      <button class=\"colab-df-convert\" onclick=\"convertToInteractive('df-4f82e53a-fc87-4e21-9ec4-1d5c7aa16261')\"\n",
              "              title=\"Convert this dataframe to an interactive table.\"\n",
              "              style=\"display:none;\">\n",
              "        \n",
              "  <svg xmlns=\"http://www.w3.org/2000/svg\" height=\"24px\"viewBox=\"0 0 24 24\"\n",
              "       width=\"24px\">\n",
              "    <path d=\"M0 0h24v24H0V0z\" fill=\"none\"/>\n",
              "    <path d=\"M18.56 5.44l.94 2.06.94-2.06 2.06-.94-2.06-.94-.94-2.06-.94 2.06-2.06.94zm-11 1L8.5 8.5l.94-2.06 2.06-.94-2.06-.94L8.5 2.5l-.94 2.06-2.06.94zm10 10l.94 2.06.94-2.06 2.06-.94-2.06-.94-.94-2.06-.94 2.06-2.06.94z\"/><path d=\"M17.41 7.96l-1.37-1.37c-.4-.4-.92-.59-1.43-.59-.52 0-1.04.2-1.43.59L10.3 9.45l-7.72 7.72c-.78.78-.78 2.05 0 2.83L4 21.41c.39.39.9.59 1.41.59.51 0 1.02-.2 1.41-.59l7.78-7.78 2.81-2.81c.8-.78.8-2.07 0-2.86zM5.41 20L4 18.59l7.72-7.72 1.47 1.35L5.41 20z\"/>\n",
              "  </svg>\n",
              "      </button>\n",
              "      \n",
              "  <style>\n",
              "    .colab-df-container {\n",
              "      display:flex;\n",
              "      flex-wrap:wrap;\n",
              "      gap: 12px;\n",
              "    }\n",
              "\n",
              "    .colab-df-convert {\n",
              "      background-color: #E8F0FE;\n",
              "      border: none;\n",
              "      border-radius: 50%;\n",
              "      cursor: pointer;\n",
              "      display: none;\n",
              "      fill: #1967D2;\n",
              "      height: 32px;\n",
              "      padding: 0 0 0 0;\n",
              "      width: 32px;\n",
              "    }\n",
              "\n",
              "    .colab-df-convert:hover {\n",
              "      background-color: #E2EBFA;\n",
              "      box-shadow: 0px 1px 2px rgba(60, 64, 67, 0.3), 0px 1px 3px 1px rgba(60, 64, 67, 0.15);\n",
              "      fill: #174EA6;\n",
              "    }\n",
              "\n",
              "    [theme=dark] .colab-df-convert {\n",
              "      background-color: #3B4455;\n",
              "      fill: #D2E3FC;\n",
              "    }\n",
              "\n",
              "    [theme=dark] .colab-df-convert:hover {\n",
              "      background-color: #434B5C;\n",
              "      box-shadow: 0px 1px 3px 1px rgba(0, 0, 0, 0.15);\n",
              "      filter: drop-shadow(0px 1px 2px rgba(0, 0, 0, 0.3));\n",
              "      fill: #FFFFFF;\n",
              "    }\n",
              "  </style>\n",
              "\n",
              "      <script>\n",
              "        const buttonEl =\n",
              "          document.querySelector('#df-4f82e53a-fc87-4e21-9ec4-1d5c7aa16261 button.colab-df-convert');\n",
              "        buttonEl.style.display =\n",
              "          google.colab.kernel.accessAllowed ? 'block' : 'none';\n",
              "\n",
              "        async function convertToInteractive(key) {\n",
              "          const element = document.querySelector('#df-4f82e53a-fc87-4e21-9ec4-1d5c7aa16261');\n",
              "          const dataTable =\n",
              "            await google.colab.kernel.invokeFunction('convertToInteractive',\n",
              "                                                     [key], {});\n",
              "          if (!dataTable) return;\n",
              "\n",
              "          const docLinkHtml = 'Like what you see? Visit the ' +\n",
              "            '<a target=\"_blank\" href=https://colab.research.google.com/notebooks/data_table.ipynb>data table notebook</a>'\n",
              "            + ' to learn more about interactive tables.';\n",
              "          element.innerHTML = '';\n",
              "          dataTable['output_type'] = 'display_data';\n",
              "          await google.colab.output.renderOutput(dataTable, element);\n",
              "          const docLink = document.createElement('div');\n",
              "          docLink.innerHTML = docLinkHtml;\n",
              "          element.appendChild(docLink);\n",
              "        }\n",
              "      </script>\n",
              "    </div>\n",
              "  </div>\n",
              "  "
            ]
          },
          "metadata": {},
          "execution_count": 25
        }
      ]
    },
    {
      "cell_type": "markdown",
      "source": [
        "The code first creates an instance of the **LabelEncoder** class and assigns it to the variable le.\n",
        "\n",
        "The code then uses the fit_transform method of the **LabelEncoder** object to encode the values in the \"class\" column of the pandas dataframe data. The fit_transform method fits the encoder to the data and transforms the data in a single step. The fit_transform method replaces the values in the \"class\" column with encoded integer values.\n",
        "\n",
        "The resulting dataframe is printed to the screen using the head() method of the data dataframe. This shows the first few rows of the transformed dataframe.\n",
        "\n",
        "The **LabelEncoder** is often used to convert categorical variables into numerical variables for use in machine learning algorithms. By default, LabelEncoder assigns a unique integer value to each unique category in the input data. This can be useful for algorithms that require numerical input data, but it is important to keep in mind that the encoding is arbitrary and does not necessarily reflect any underlying relationship between categories.\n",
        "\n",
        "\n"
      ],
      "metadata": {
        "id": "wBxMN-NTZrl6"
      }
    },
    {
      "cell_type": "code",
      "source": [
        "encoded_data = pd.get_dummies(data)\n",
        "encoded_data.head()"
      ],
      "metadata": {
        "colab": {
          "base_uri": "https://localhost:8080/",
          "height": 317
        },
        "id": "DjWq_utKZWC5",
        "outputId": "2aa161fe-59d9-4bd1-84d4-5ab63c107086"
      },
      "execution_count": 32,
      "outputs": [
        {
          "output_type": "execute_result",
          "data": {
            "text/plain": [
              "   class  cap-shape_b  cap-shape_c  cap-shape_f  cap-shape_k  cap-shape_s  \\\n",
              "0      1            0            0            0            0            0   \n",
              "1      0            0            0            0            0            0   \n",
              "2      0            1            0            0            0            0   \n",
              "3      1            0            0            0            0            0   \n",
              "4      0            0            0            0            0            0   \n",
              "\n",
              "   cap-shape_x  cap-surface_f  cap-surface_g  cap-surface_s  ...  \\\n",
              "0            1              0              0              1  ...   \n",
              "1            1              0              0              1  ...   \n",
              "2            0              0              0              1  ...   \n",
              "3            1              0              0              0  ...   \n",
              "4            1              0              0              1  ...   \n",
              "\n",
              "   population_s  population_v  population_y  habitat_d  habitat_g  habitat_l  \\\n",
              "0             1             0             0          0          0          0   \n",
              "1             0             0             0          0          1          0   \n",
              "2             0             0             0          0          0          0   \n",
              "3             1             0             0          0          0          0   \n",
              "4             0             0             0          0          1          0   \n",
              "\n",
              "   habitat_m  habitat_p  habitat_u  habitat_w  \n",
              "0          0          0          1          0  \n",
              "1          0          0          0          0  \n",
              "2          1          0          0          0  \n",
              "3          0          0          1          0  \n",
              "4          0          0          0          0  \n",
              "\n",
              "[5 rows x 118 columns]"
            ],
            "text/html": [
              "\n",
              "  <div id=\"df-48bb61cc-0b74-4218-aee5-f4f602cbcda8\">\n",
              "    <div class=\"colab-df-container\">\n",
              "      <div>\n",
              "<style scoped>\n",
              "    .dataframe tbody tr th:only-of-type {\n",
              "        vertical-align: middle;\n",
              "    }\n",
              "\n",
              "    .dataframe tbody tr th {\n",
              "        vertical-align: top;\n",
              "    }\n",
              "\n",
              "    .dataframe thead th {\n",
              "        text-align: right;\n",
              "    }\n",
              "</style>\n",
              "<table border=\"1\" class=\"dataframe\">\n",
              "  <thead>\n",
              "    <tr style=\"text-align: right;\">\n",
              "      <th></th>\n",
              "      <th>class</th>\n",
              "      <th>cap-shape_b</th>\n",
              "      <th>cap-shape_c</th>\n",
              "      <th>cap-shape_f</th>\n",
              "      <th>cap-shape_k</th>\n",
              "      <th>cap-shape_s</th>\n",
              "      <th>cap-shape_x</th>\n",
              "      <th>cap-surface_f</th>\n",
              "      <th>cap-surface_g</th>\n",
              "      <th>cap-surface_s</th>\n",
              "      <th>...</th>\n",
              "      <th>population_s</th>\n",
              "      <th>population_v</th>\n",
              "      <th>population_y</th>\n",
              "      <th>habitat_d</th>\n",
              "      <th>habitat_g</th>\n",
              "      <th>habitat_l</th>\n",
              "      <th>habitat_m</th>\n",
              "      <th>habitat_p</th>\n",
              "      <th>habitat_u</th>\n",
              "      <th>habitat_w</th>\n",
              "    </tr>\n",
              "  </thead>\n",
              "  <tbody>\n",
              "    <tr>\n",
              "      <th>0</th>\n",
              "      <td>1</td>\n",
              "      <td>0</td>\n",
              "      <td>0</td>\n",
              "      <td>0</td>\n",
              "      <td>0</td>\n",
              "      <td>0</td>\n",
              "      <td>1</td>\n",
              "      <td>0</td>\n",
              "      <td>0</td>\n",
              "      <td>1</td>\n",
              "      <td>...</td>\n",
              "      <td>1</td>\n",
              "      <td>0</td>\n",
              "      <td>0</td>\n",
              "      <td>0</td>\n",
              "      <td>0</td>\n",
              "      <td>0</td>\n",
              "      <td>0</td>\n",
              "      <td>0</td>\n",
              "      <td>1</td>\n",
              "      <td>0</td>\n",
              "    </tr>\n",
              "    <tr>\n",
              "      <th>1</th>\n",
              "      <td>0</td>\n",
              "      <td>0</td>\n",
              "      <td>0</td>\n",
              "      <td>0</td>\n",
              "      <td>0</td>\n",
              "      <td>0</td>\n",
              "      <td>1</td>\n",
              "      <td>0</td>\n",
              "      <td>0</td>\n",
              "      <td>1</td>\n",
              "      <td>...</td>\n",
              "      <td>0</td>\n",
              "      <td>0</td>\n",
              "      <td>0</td>\n",
              "      <td>0</td>\n",
              "      <td>1</td>\n",
              "      <td>0</td>\n",
              "      <td>0</td>\n",
              "      <td>0</td>\n",
              "      <td>0</td>\n",
              "      <td>0</td>\n",
              "    </tr>\n",
              "    <tr>\n",
              "      <th>2</th>\n",
              "      <td>0</td>\n",
              "      <td>1</td>\n",
              "      <td>0</td>\n",
              "      <td>0</td>\n",
              "      <td>0</td>\n",
              "      <td>0</td>\n",
              "      <td>0</td>\n",
              "      <td>0</td>\n",
              "      <td>0</td>\n",
              "      <td>1</td>\n",
              "      <td>...</td>\n",
              "      <td>0</td>\n",
              "      <td>0</td>\n",
              "      <td>0</td>\n",
              "      <td>0</td>\n",
              "      <td>0</td>\n",
              "      <td>0</td>\n",
              "      <td>1</td>\n",
              "      <td>0</td>\n",
              "      <td>0</td>\n",
              "      <td>0</td>\n",
              "    </tr>\n",
              "    <tr>\n",
              "      <th>3</th>\n",
              "      <td>1</td>\n",
              "      <td>0</td>\n",
              "      <td>0</td>\n",
              "      <td>0</td>\n",
              "      <td>0</td>\n",
              "      <td>0</td>\n",
              "      <td>1</td>\n",
              "      <td>0</td>\n",
              "      <td>0</td>\n",
              "      <td>0</td>\n",
              "      <td>...</td>\n",
              "      <td>1</td>\n",
              "      <td>0</td>\n",
              "      <td>0</td>\n",
              "      <td>0</td>\n",
              "      <td>0</td>\n",
              "      <td>0</td>\n",
              "      <td>0</td>\n",
              "      <td>0</td>\n",
              "      <td>1</td>\n",
              "      <td>0</td>\n",
              "    </tr>\n",
              "    <tr>\n",
              "      <th>4</th>\n",
              "      <td>0</td>\n",
              "      <td>0</td>\n",
              "      <td>0</td>\n",
              "      <td>0</td>\n",
              "      <td>0</td>\n",
              "      <td>0</td>\n",
              "      <td>1</td>\n",
              "      <td>0</td>\n",
              "      <td>0</td>\n",
              "      <td>1</td>\n",
              "      <td>...</td>\n",
              "      <td>0</td>\n",
              "      <td>0</td>\n",
              "      <td>0</td>\n",
              "      <td>0</td>\n",
              "      <td>1</td>\n",
              "      <td>0</td>\n",
              "      <td>0</td>\n",
              "      <td>0</td>\n",
              "      <td>0</td>\n",
              "      <td>0</td>\n",
              "    </tr>\n",
              "  </tbody>\n",
              "</table>\n",
              "<p>5 rows × 118 columns</p>\n",
              "</div>\n",
              "      <button class=\"colab-df-convert\" onclick=\"convertToInteractive('df-48bb61cc-0b74-4218-aee5-f4f602cbcda8')\"\n",
              "              title=\"Convert this dataframe to an interactive table.\"\n",
              "              style=\"display:none;\">\n",
              "        \n",
              "  <svg xmlns=\"http://www.w3.org/2000/svg\" height=\"24px\"viewBox=\"0 0 24 24\"\n",
              "       width=\"24px\">\n",
              "    <path d=\"M0 0h24v24H0V0z\" fill=\"none\"/>\n",
              "    <path d=\"M18.56 5.44l.94 2.06.94-2.06 2.06-.94-2.06-.94-.94-2.06-.94 2.06-2.06.94zm-11 1L8.5 8.5l.94-2.06 2.06-.94-2.06-.94L8.5 2.5l-.94 2.06-2.06.94zm10 10l.94 2.06.94-2.06 2.06-.94-2.06-.94-.94-2.06-.94 2.06-2.06.94z\"/><path d=\"M17.41 7.96l-1.37-1.37c-.4-.4-.92-.59-1.43-.59-.52 0-1.04.2-1.43.59L10.3 9.45l-7.72 7.72c-.78.78-.78 2.05 0 2.83L4 21.41c.39.39.9.59 1.41.59.51 0 1.02-.2 1.41-.59l7.78-7.78 2.81-2.81c.8-.78.8-2.07 0-2.86zM5.41 20L4 18.59l7.72-7.72 1.47 1.35L5.41 20z\"/>\n",
              "  </svg>\n",
              "      </button>\n",
              "      \n",
              "  <style>\n",
              "    .colab-df-container {\n",
              "      display:flex;\n",
              "      flex-wrap:wrap;\n",
              "      gap: 12px;\n",
              "    }\n",
              "\n",
              "    .colab-df-convert {\n",
              "      background-color: #E8F0FE;\n",
              "      border: none;\n",
              "      border-radius: 50%;\n",
              "      cursor: pointer;\n",
              "      display: none;\n",
              "      fill: #1967D2;\n",
              "      height: 32px;\n",
              "      padding: 0 0 0 0;\n",
              "      width: 32px;\n",
              "    }\n",
              "\n",
              "    .colab-df-convert:hover {\n",
              "      background-color: #E2EBFA;\n",
              "      box-shadow: 0px 1px 2px rgba(60, 64, 67, 0.3), 0px 1px 3px 1px rgba(60, 64, 67, 0.15);\n",
              "      fill: #174EA6;\n",
              "    }\n",
              "\n",
              "    [theme=dark] .colab-df-convert {\n",
              "      background-color: #3B4455;\n",
              "      fill: #D2E3FC;\n",
              "    }\n",
              "\n",
              "    [theme=dark] .colab-df-convert:hover {\n",
              "      background-color: #434B5C;\n",
              "      box-shadow: 0px 1px 3px 1px rgba(0, 0, 0, 0.15);\n",
              "      filter: drop-shadow(0px 1px 2px rgba(0, 0, 0, 0.3));\n",
              "      fill: #FFFFFF;\n",
              "    }\n",
              "  </style>\n",
              "\n",
              "      <script>\n",
              "        const buttonEl =\n",
              "          document.querySelector('#df-48bb61cc-0b74-4218-aee5-f4f602cbcda8 button.colab-df-convert');\n",
              "        buttonEl.style.display =\n",
              "          google.colab.kernel.accessAllowed ? 'block' : 'none';\n",
              "\n",
              "        async function convertToInteractive(key) {\n",
              "          const element = document.querySelector('#df-48bb61cc-0b74-4218-aee5-f4f602cbcda8');\n",
              "          const dataTable =\n",
              "            await google.colab.kernel.invokeFunction('convertToInteractive',\n",
              "                                                     [key], {});\n",
              "          if (!dataTable) return;\n",
              "\n",
              "          const docLinkHtml = 'Like what you see? Visit the ' +\n",
              "            '<a target=\"_blank\" href=https://colab.research.google.com/notebooks/data_table.ipynb>data table notebook</a>'\n",
              "            + ' to learn more about interactive tables.';\n",
              "          element.innerHTML = '';\n",
              "          dataTable['output_type'] = 'display_data';\n",
              "          await google.colab.output.renderOutput(dataTable, element);\n",
              "          const docLink = document.createElement('div');\n",
              "          docLink.innerHTML = docLinkHtml;\n",
              "          element.appendChild(docLink);\n",
              "        }\n",
              "      </script>\n",
              "    </div>\n",
              "  </div>\n",
              "  "
            ]
          },
          "metadata": {},
          "execution_count": 32
        }
      ]
    },
    {
      "cell_type": "markdown",
      "source": [
        "##Modelling"
      ],
      "metadata": {
        "id": "zbvowqMsxvhZ"
      }
    },
    {
      "cell_type": "code",
      "source": [
        "y = data['class'].values.reshape(-1,1)\n",
        "X = encoded_data.drop(['class'], axis=1)\n",
        "X_train, X_test, y_train, y_test = train_test_split(X, y, test_size=0.2, random_state=42)"
      ],
      "metadata": {
        "id": "nPAPlJJ8xxHo"
      },
      "execution_count": 35,
      "outputs": []
    },
    {
      "cell_type": "markdown",
      "source": [
        "The code first creates a variable y by selecting the \"class\" column from the pandas dataframe data using indexing, and then reshaping it using the reshape method of numpy array. The reshape method is used to convert the shape of the numpy array from a 1D array to a 2D array with a single column. This is necessary because scikit-learn expects the target variable to be in a 2D array format.\n",
        "\n",
        "The code then creates a variable X by dropping the \"class\" column from the pandas dataframe encoded_data using the drop method with the axis parameter set to 1. This creates a new dataframe with all of the columns from encoded_data except for the \"class\" column.\n",
        "\n",
        "The code then uses the train_test_split function from scikit-learn to split the data into training and test sets. The test_size parameter is set to 0.2, which means that 20% of the data will be used for testing, and the remaining 80% will be used for training. The random_state parameter is set to 42 to ensure reproducibility of the results.\n",
        "\n",
        "The train_test_split function returns four numpy arrays: X_train, X_test, y_train, and y_test. These arrays contain the training and test sets for the input features (X_train and X_test) and the target variable (y_train and y_test)."
      ],
      "metadata": {
        "id": "BMSt9lVXzS39"
      }
    },
    {
      "cell_type": "code",
      "source": [
        "##First Algorithmn for CLASSIFICATION"
      ],
      "metadata": {
        "id": "6iw9qK_cyoM1"
      },
      "execution_count": 36,
      "outputs": []
    },
    {
      "cell_type": "markdown",
      "source": [
        "##Logistic Regression\n",
        "\n",
        "1st Algorithmn of Classification\n"
      ],
      "metadata": {
        "id": "TwzB1o9U2AKv"
      }
    },
    {
      "cell_type": "code",
      "source": [
        "from sklearn.linear_model import LogisticRegression"
      ],
      "metadata": {
        "id": "BwbOR8_42CaO"
      },
      "execution_count": 37,
      "outputs": []
    },
    {
      "cell_type": "markdown",
      "source": [
        "The sklearn.linear_model module provides a variety of linear models for use in regression and classification problems."
      ],
      "metadata": {
        "id": "q1qM5Fwt4kL1"
      }
    },
    {
      "cell_type": "code",
      "source": [
        "logistic_reg = LogisticRegression()\n",
        "logistic_reg.fit(X_train, y_train.ravel())\n",
        "y_prob = logistic_reg.predict_proba(X_test)[:,1]\n",
        "y_pred = np.where(y_prob > 0.5, 1, 0)"
      ],
      "metadata": {
        "id": "DHnYWwL02Mgx"
      },
      "execution_count": 38,
      "outputs": []
    },
    {
      "cell_type": "markdown",
      "source": [
        "The code creates an instance of the LogisticRegression class and assigns it to the variable logistic_reg. The fit method of the LogisticRegression class is then used to fit the model to the training data. The fit method takes the input features in X_train and the target variable in y_train, which has been flattened to a 1D array using the ravel method.\n",
        "\n",
        "After fitting the model, the code uses the predict_proba method of the LogisticRegression object to predict the probability of the positive class (class 1) for each example in the test set X_test. The predict_proba method returns a 2D numpy array where each row corresponds to an example in the test set and each column corresponds to a class. The first column corresponds to the probability of the negative class (class 0) and the second column corresponds to the probability of the positive class (class 1). The probability values are between 0 and 1 and sum to 1 for each row.\n",
        "\n",
        "The code then selects the second column of the output of predict_proba using indexing ([:,1]) to get the predicted probability of the positive class for each example in the test set. These probabilities are stored in the variable y_prob.\n",
        "\n",
        "Finally, the code uses the np.where function to convert the predicted probabilities in y_prob to binary predictions (y_pred) by applying a threshold of 0.5. If the predicted probability of the positive class is greater than 0.5, the corresponding binary prediction is 1, otherwise it is 0.\n",
        "\n",
        "\n"
      ],
      "metadata": {
        "id": "o9ZlPSDh4ypY"
      }
    },
    {
      "cell_type": "code",
      "source": [
        "log_confusion_matrix = confusion_matrix(y_test, y_pred)\n",
        "log_confusion_matrix"
      ],
      "metadata": {
        "colab": {
          "base_uri": "https://localhost:8080/"
        },
        "id": "8C4yQuyy2tiW",
        "outputId": "f7531e6f-18b2-46ab-d954-ff9d991ebe83"
      },
      "execution_count": 39,
      "outputs": [
        {
          "output_type": "execute_result",
          "data": {
            "text/plain": [
              "array([[843,   0],\n",
              "       [  0, 782]])"
            ]
          },
          "metadata": {},
          "execution_count": 39
        }
      ]
    },
    {
      "cell_type": "markdown",
      "source": [
        "The confusion_matrix function from scikit-learn is used to calculate a confusion matrix for the binary classification problem. The function takes two arguments: the true labels (y_test) and the predicted labels (y_pred).\n",
        "\n",
        "The code calculates the confusion matrix for the logistic regression model by calling confusion_matrix with y_test and y_pred as arguments and assigning the result to the variable log_confusion_matrix. The confusion matrix is a 2x2 numpy array that shows the number of true positives, true negatives, false positives, and false negatives. The rows of the matrix correspond to the actual class labels, and the columns correspond to the predicted class labels."
      ],
      "metadata": {
        "id": "Fk1QMmFN48VY"
      }
    },
    {
      "cell_type": "code",
      "source": [
        "false_positive_rate, true_positive_rate, threshold = roc_curve(y_test,y_prob)\n",
        "roc_auc = auc(false_positive_rate, true_positive_rate)\n",
        "roc_auc"
      ],
      "metadata": {
        "colab": {
          "base_uri": "https://localhost:8080/"
        },
        "id": "YGOfZVdH22-v",
        "outputId": "b237fa53-dd96-4ffd-b3de-448c77129c1b"
      },
      "execution_count": 40,
      "outputs": [
        {
          "output_type": "execute_result",
          "data": {
            "text/plain": [
              "1.0"
            ]
          },
          "metadata": {},
          "execution_count": 40
        }
      ]
    },
    {
      "cell_type": "markdown",
      "source": [
        "The code calculates the Receiver Operating Characteristic (ROC) curve for the logistic regression model. The ROC curve is a graphical representation of the trade-off between the true positive rate (TPR) and the false positive rate (FPR) for different thresholds of a binary classifier. The ROC curve is created by plotting the TPR against the FPR at various threshold values.\n",
        "\n",
        "The roc_curve function from scikit-learn is used to calculate the FPR, TPR, and threshold values for the ROC curve. The function takes two arguments: the true labels (y_test) and the predicted probabilities for the positive class (y_prob).\n",
        "\n",
        "The auc function from scikit-learn is used to calculate the area under the ROC curve (AUC) for the logistic regression model. The auc function takes the FPR and TPR values as arguments.\n",
        "\n",
        "The FPR, TPR, and threshold values are assigned to the variables false_positive_rate, true_positive_rate, and threshold, respectively. The AUC is assigned to the variable roc_auc."
      ],
      "metadata": {
        "id": "L0D7Jy1M5JOu"
      }
    },
    {
      "cell_type": "code",
      "source": [
        "def plot_roc(roc_auc):\n",
        "  plt.figure(figsize=(7,7))\n",
        "  plt.title('Reciever Operating Characterstics')\n",
        "  plt.plot(false_positive_rate, true_positive_rate, color='red', label='AUC = %0.2f' % roc_auc)\n",
        "  plt.legend(loc='lower_right')\n",
        "  plt.plot([0,1], [0,1], linestyle='--')\n",
        "  plt.axis('tight')\n",
        "  plt.ylabel('True Positive Rate')\n",
        "  plt.xlabel('False Positive Rate')\n"
      ],
      "metadata": {
        "id": "sCGg2rtJ3MkG"
      },
      "execution_count": 43,
      "outputs": []
    },
    {
      "cell_type": "markdown",
      "source": [
        "The code defines a function plot_roc that takes the AUC value as an argument and plots the ROC curve. The function uses the false_positive_rate and true_positive_rate arrays calculated by the roc_curve function, as well as the roc_auc value calculated by the auc function.\n",
        "\n",
        "The function first creates a figure with a title \"Receiver Operating Characteristics\" and sets the figure size to (7,7). It then plots the ROC curve using plt.plot and the false_positive_rate and true_positive_rate arrays as x and y values, respectively. The color of the curve is set to red and a label is added to the curve showing the AUC value.\n",
        "\n",
        "The function then adds a legend to the plot, plots the diagonal line representing a random classifier (TPR = FPR), and sets the axis limits and labels."
      ],
      "metadata": {
        "id": "nsiX0UpJ5TFE"
      }
    },
    {
      "cell_type": "code",
      "source": [
        "plot_roc(roc_auc)"
      ],
      "metadata": {
        "colab": {
          "base_uri": "https://localhost:8080/",
          "height": 708
        },
        "id": "IK5lQwxn4LO8",
        "outputId": "be666626-ccb3-4f90-98d8-36ea9aae18c1"
      },
      "execution_count": 44,
      "outputs": [
        {
          "output_type": "stream",
          "name": "stderr",
          "text": [
            "<ipython-input-43-17486f57f990>:5: MatplotlibDeprecationWarning: Unrecognized location 'lower_right'. Falling back on 'best'; valid locations are\n",
            "\tbest\n",
            "\tupper right\n",
            "\tupper left\n",
            "\tlower left\n",
            "\tlower right\n",
            "\tright\n",
            "\tcenter left\n",
            "\tcenter right\n",
            "\tlower center\n",
            "\tupper center\n",
            "\tcenter\n",
            "This will raise an exception in 3.3.\n",
            "  plt.legend(loc='lower_right')\n"
          ]
        },
        {
          "output_type": "display_data",
          "data": {
            "text/plain": [
              "<Figure size 504x504 with 1 Axes>"
            ],
            "image/png": "[encoded data removed]"
          },
          "metadata": {
            "needs_background": "light"
          }
        }
      ]
    },
    {
      "cell_type": "markdown",
      "source": [
        "##Linear Discriminant Analysis (LDA)\n",
        "\n",
        ">2nd Algorithmn of Classisfication\n",
        "\n",
        "Same procedures would be repeated like Logistic Regression, just the algorithmn has changed.\n"
      ],
      "metadata": {
        "id": "89PqskJq-O2G"
      }
    },
    {
      "cell_type": "code",
      "source": [
        "from sklearn.discriminant_analysis import LinearDiscriminantAnalysis"
      ],
      "metadata": {
        "id": "-m09I4U1-RVy"
      },
      "execution_count": 45,
      "outputs": []
    },
    {
      "cell_type": "code",
      "source": [
        "lda = LinearDiscriminantAnalysis()\n",
        "lda.fit(X_train, y_train.ravel())\n",
        "y_prob_lda = lda.predict_proba(X_test)[:,1]\n",
        "y_pred_lda = np.where(y_prob_lda > 0.5, 1, 0) \n",
        "\n"
      ],
      "metadata": {
        "id": "RuUu76gM-xbz"
      },
      "execution_count": 46,
      "outputs": []
    },
    {
      "cell_type": "code",
      "source": [
        "lda_confusion_matrix = confusion_matrix(y_test, y_pred_lda)\n",
        "lda_confusion_matrix"
      ],
      "metadata": {
        "colab": {
          "base_uri": "https://localhost:8080/"
        },
        "id": "IeLEmoEV_nPU",
        "outputId": "c1e205b4-478a-4d17-d941-53bf6f75fec6"
      },
      "execution_count": 47,
      "outputs": [
        {
          "output_type": "execute_result",
          "data": {
            "text/plain": [
              "array([[843,   0],\n",
              "       [  0, 782]])"
            ]
          },
          "metadata": {},
          "execution_count": 47
        }
      ]
    },
    {
      "cell_type": "code",
      "source": [
        "false_positive_rate, true_positive_rate, thresholds = roc_curve(y_test, y_prob_lda)\n",
        "roc_auc_lda = auc(false_positive_rate, true_positive_rate)\n",
        "roc_auc_lda"
      ],
      "metadata": {
        "colab": {
          "base_uri": "https://localhost:8080/"
        },
        "id": "7H69yvCt_5ek",
        "outputId": "7c6185fb-d44b-41be-f78c-418e3edccf0b"
      },
      "execution_count": 48,
      "outputs": [
        {
          "output_type": "execute_result",
          "data": {
            "text/plain": [
              "1.0"
            ]
          },
          "metadata": {},
          "execution_count": 48
        }
      ]
    },
    {
      "cell_type": "code",
      "source": [
        "plot_roc(roc_auc_lda)"
      ],
      "metadata": {
        "colab": {
          "base_uri": "https://localhost:8080/",
          "height": 708
        },
        "id": "Jn6IjCuVAT85",
        "outputId": "9516be5a-0565-414e-c21c-eb1eec63fcfc"
      },
      "execution_count": 50,
      "outputs": [
        {
          "output_type": "stream",
          "name": "stderr",
          "text": [
            "<ipython-input-43-17486f57f990>:5: MatplotlibDeprecationWarning: Unrecognized location 'lower_right'. Falling back on 'best'; valid locations are\n",
            "\tbest\n",
            "\tupper right\n",
            "\tupper left\n",
            "\tlower left\n",
            "\tlower right\n",
            "\tright\n",
            "\tcenter left\n",
            "\tcenter right\n",
            "\tlower center\n",
            "\tupper center\n",
            "\tcenter\n",
            "This will raise an exception in 3.3.\n",
            "  plt.legend(loc='lower_right')\n"
          ]
        },
        {
          "output_type": "display_data",
          "data": {
            "text/plain": [
              "<Figure size 504x504 with 1 Axes>"
            ],
            "image/png": "[encoded data removed]"
          },
          "metadata": {
            "needs_background": "light"
          }
        }
      ]
    },
    {
      "cell_type": "code",
      "source": [],
      "metadata": {
        "id": "lQMN9DsVAWRo"
      },
      "execution_count": null,
      "outputs": []
    },
    {
      "cell_type": "markdown",
      "source": [
        "##Quadratic Discriminant Analysis (QDA)\n",
        "\n",
        "3rd Algorithmn of Classification\n",
        "\n"
      ],
      "metadata": {
        "id": "fCf0f3oBAdMF"
      }
    },
    {
      "cell_type": "code",
      "source": [
        "from sklearn.discriminant_analysis import QuadraticDiscriminantAnalysis"
      ],
      "metadata": {
        "id": "AQvSnvZvAnAw"
      },
      "execution_count": 52,
      "outputs": []
    },
    {
      "cell_type": "code",
      "source": [
        "qda = QuadraticDiscriminantAnalysis()\n",
        "qda.fit(X_train, y_train.ravel())\n",
        "y_prob_qda = qda.predict_proba(X_test)[:,1]\n",
        "y_pred_qda = np.where(y_prob_qda > 0.5, 1, 0) \n"
      ],
      "metadata": {
        "colab": {
          "base_uri": "https://localhost:8080/"
        },
        "id": "tF_hp3bnA2JV",
        "outputId": "5da42c54-3a8d-4f65-a930-a5ff5a786c22"
      },
      "execution_count": 53,
      "outputs": [
        {
          "output_type": "stream",
          "name": "stderr",
          "text": [
            "/usr/local/lib/python3.8/dist-packages/sklearn/discriminant_analysis.py:878: UserWarning: Variables are collinear\n",
            "  warnings.warn(\"Variables are collinear\")\n"
          ]
        }
      ]
    },
    {
      "cell_type": "code",
      "source": [
        "qda_confusion_matrix = confusion_matrix(y_test, y_pred_qda)\n",
        "qda_confusion_matrix"
      ],
      "metadata": {
        "colab": {
          "base_uri": "https://localhost:8080/"
        },
        "id": "0bvvJrq3BBTM",
        "outputId": "97410dbc-e1ed-4d30-e2ff-26fa9d66d9c5"
      },
      "execution_count": 54,
      "outputs": [
        {
          "output_type": "execute_result",
          "data": {
            "text/plain": [
              "array([[843,   0],\n",
              "       [  0, 782]])"
            ]
          },
          "metadata": {},
          "execution_count": 54
        }
      ]
    },
    {
      "cell_type": "code",
      "source": [
        "false_positive_rate, true_positive_rate, thresholds = roc_curve(y_test, y_prob_qda)\n",
        "roc_auc_qda = auc(false_positive_rate, true_positive_rate)\n",
        "roc_auc_qda"
      ],
      "metadata": {
        "colab": {
          "base_uri": "https://localhost:8080/"
        },
        "id": "zcsqXHOzBHMG",
        "outputId": "974fd674-4c2b-4427-fac7-e14aae4570a8"
      },
      "execution_count": 55,
      "outputs": [
        {
          "output_type": "execute_result",
          "data": {
            "text/plain": [
              "1.0"
            ]
          },
          "metadata": {},
          "execution_count": 55
        }
      ]
    },
    {
      "cell_type": "code",
      "source": [
        "plot_roc(roc_auc_qda)"
      ],
      "metadata": {
        "colab": {
          "base_uri": "https://localhost:8080/",
          "height": 708
        },
        "id": "XF4Cvid1BMB4",
        "outputId": "997a4ffc-ea8d-4d76-f165-df5c36f6c236"
      },
      "execution_count": 57,
      "outputs": [
        {
          "output_type": "stream",
          "name": "stderr",
          "text": [
            "<ipython-input-43-17486f57f990>:5: MatplotlibDeprecationWarning: Unrecognized location 'lower_right'. Falling back on 'best'; valid locations are\n",
            "\tbest\n",
            "\tupper right\n",
            "\tupper left\n",
            "\tlower left\n",
            "\tlower right\n",
            "\tright\n",
            "\tcenter left\n",
            "\tcenter right\n",
            "\tlower center\n",
            "\tupper center\n",
            "\tcenter\n",
            "This will raise an exception in 3.3.\n",
            "  plt.legend(loc='lower_right')\n"
          ]
        },
        {
          "output_type": "display_data",
          "data": {
            "text/plain": [
              "<Figure size 504x504 with 1 Axes>"
            ],
            "image/png": "[encoded data removed]"
          },
          "metadata": {
            "needs_background": "light"
          }
        }
      ]
    },
    {
      "cell_type": "code",
      "source": [],
      "metadata": {
        "id": "AhkMIarYBOCG"
      },
      "execution_count": null,
      "outputs": []
    }
  ]
}